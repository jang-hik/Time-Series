{
 "cells": [
  {
   "cell_type": "code",
   "execution_count": 1,
   "id": "5d7ba0ba",
   "metadata": {
    "ExecuteTime": {
     "end_time": "2022-07-08T02:46:48.741717Z",
     "start_time": "2022-07-08T02:46:47.752291Z"
    }
   },
   "outputs": [],
   "source": [
    "import pandas as pd\n",
    "import numpy as np\n",
    "import matplotlib.pyplot as plt\n",
    "import seaborn as sns\n",
    "from scipy import stats"
   ]
  },
  {
   "cell_type": "markdown",
   "id": "3a158568",
   "metadata": {},
   "source": [
    "# condition number"
   ]
  },
  {
   "cell_type": "markdown",
   "id": "64666bef",
   "metadata": {},
   "source": [
    "- **조건수 감소 목적:**\n",
    "    - **(비수학적 이해)**  \n",
    "    : 독립변수들의 절대적 수치크기나 서로간의 의존도가 분석결과에 주는 영향을 줄이고 독립변수의 상대적인 비교효과 반영\n",
    "    - **(수학적 이해)**  \n",
    "    : 공분산 행렬의 변동성을 줄여 분석결과의 변동을 줄임\n",
    "        > **공분산 행렬의 변동성?:** 모델링 계수추정시 영향을 주는 역행렬에 오차가 미치는 영향\n",
    "           \n",
    "<center>\n",
    "$조건수(Condition~Number) = \\dfrac{\\lambda_{max}}{\\lambda_{min}} \\\\ where \\\\\n",
    "\\lambda_{max} = max[eigenvalue\\{Cov(X^T X)\\}] \\\\\n",
    "\\lambda_{min} = min[eigenvalue\\{Cov(X^T X)\\}]$\n",
    "</center>  \n",
    "   "
   ]
  },
  {
   "cell_type": "code",
   "execution_count": 2,
   "id": "320225a6",
   "metadata": {
    "ExecuteTime": {
     "end_time": "2022-07-08T02:46:48.757572Z",
     "start_time": "2022-07-08T02:46:48.743119Z"
    }
   },
   "outputs": [
    {
     "name": "stdout",
     "output_type": "stream",
     "text": [
      "[[1. 0. 0. 0.]\n",
      " [0. 1. 0. 0.]\n",
      " [0. 0. 1. 0.]\n",
      " [0. 0. 0. 1.]]\n",
      "\n",
      "[1. 1. 1. 1.]\n"
     ]
    }
   ],
   "source": [
    "# 조건수가 작을 때\n",
    "A = np.eye(4)\n",
    "b = np.ones(4)\n",
    "print(A)\n",
    "print('')\n",
    "print(b)"
   ]
  },
  {
   "cell_type": "code",
   "execution_count": 3,
   "id": "1bfb9c22",
   "metadata": {
    "ExecuteTime": {
     "end_time": "2022-07-08T02:46:48.773186Z",
     "start_time": "2022-07-08T02:46:48.758700Z"
    }
   },
   "outputs": [
    {
     "data": {
      "text/plain": [
       "array([1., 1., 1., 1.])"
      ]
     },
     "execution_count": 3,
     "metadata": {},
     "output_type": "execute_result"
    }
   ],
   "source": [
    "# np.linalg.solve : Ax=b에서 x를 계산합니다.\n",
    "np.linalg.solve(A,b)"
   ]
  },
  {
   "cell_type": "code",
   "execution_count": 4,
   "id": "f881e3e2",
   "metadata": {
    "ExecuteTime": {
     "end_time": "2022-07-08T02:46:48.789144Z",
     "start_time": "2022-07-08T02:46:48.775186Z"
    }
   },
   "outputs": [
    {
     "data": {
      "text/plain": [
       "array([[1.0001, 0.    , 0.    , 0.    ],\n",
       "       [0.    , 1.0001, 0.    , 0.    ],\n",
       "       [0.    , 0.    , 1.0001, 0.    ],\n",
       "       [0.    , 0.    , 0.    , 1.0001]])"
      ]
     },
     "execution_count": 4,
     "metadata": {},
     "output_type": "execute_result"
    }
   ],
   "source": [
    "# A 데이터 오차반영\n",
    "A_new = A + 0.0001*np.eye(4)\n",
    "A_new "
   ]
  },
  {
   "cell_type": "code",
   "execution_count": 5,
   "id": "00ec4fe1",
   "metadata": {
    "ExecuteTime": {
     "end_time": "2022-07-08T02:46:48.804551Z",
     "start_time": "2022-07-08T02:46:48.790652Z"
    }
   },
   "outputs": [
    {
     "data": {
      "text/plain": [
       "array([0.99990001, 0.99990001, 0.99990001, 0.99990001])"
      ]
     },
     "execution_count": 5,
     "metadata": {},
     "output_type": "execute_result"
    }
   ],
   "source": [
    "np.linalg.solve(A_new, b)"
   ]
  },
  {
   "cell_type": "code",
   "execution_count": 6,
   "id": "1c352257",
   "metadata": {
    "ExecuteTime": {
     "end_time": "2022-07-08T02:46:48.820155Z",
     "start_time": "2022-07-08T02:46:48.805559Z"
    }
   },
   "outputs": [
    {
     "name": "stdout",
     "output_type": "stream",
     "text": [
      "1.0\n"
     ]
    }
   ],
   "source": [
    "# 조건수 확인\n",
    "print(np.linalg.cond(A))"
   ]
  },
  {
   "cell_type": "code",
   "execution_count": 7,
   "id": "a78028d9",
   "metadata": {
    "ExecuteTime": {
     "end_time": "2022-07-08T02:46:48.835301Z",
     "start_time": "2022-07-08T02:46:48.821689Z"
    }
   },
   "outputs": [
    {
     "data": {
      "text/plain": [
       "array([[1.        , 0.5       , 0.33333333, 0.25      ],\n",
       "       [0.5       , 0.33333333, 0.25      , 0.2       ],\n",
       "       [0.33333333, 0.25      , 0.2       , 0.16666667],\n",
       "       [0.25      , 0.2       , 0.16666667, 0.14285714]])"
      ]
     },
     "execution_count": 7,
     "metadata": {},
     "output_type": "execute_result"
    }
   ],
   "source": [
    "# 조건수가 클때\n",
    "from scipy.linalg import hilbert\n",
    "A = hilbert(4)\n",
    "A "
   ]
  },
  {
   "cell_type": "code",
   "execution_count": 8,
   "id": "ccd17ec7",
   "metadata": {
    "ExecuteTime": {
     "end_time": "2022-07-08T02:46:48.850393Z",
     "start_time": "2022-07-08T02:46:48.836713Z"
    }
   },
   "outputs": [
    {
     "data": {
      "text/plain": [
       "array([1., 1., 1., 1.])"
      ]
     },
     "execution_count": 8,
     "metadata": {},
     "output_type": "execute_result"
    }
   ],
   "source": [
    "b = np.ones(4)\n",
    "b"
   ]
  },
  {
   "cell_type": "code",
   "execution_count": 9,
   "id": "f0f2288f",
   "metadata": {
    "ExecuteTime": {
     "end_time": "2022-07-08T02:46:48.866393Z",
     "start_time": "2022-07-08T02:46:48.851399Z"
    }
   },
   "outputs": [
    {
     "data": {
      "text/plain": [
       "array([  -4.,   60., -180.,  140.])"
      ]
     },
     "execution_count": 9,
     "metadata": {},
     "output_type": "execute_result"
    }
   ],
   "source": [
    "# Ax=b에서 x를 추정\n",
    "np.linalg.solve(A, b)"
   ]
  },
  {
   "cell_type": "code",
   "execution_count": 10,
   "id": "ff455dad",
   "metadata": {
    "ExecuteTime": {
     "end_time": "2022-07-08T02:46:48.882241Z",
     "start_time": "2022-07-08T02:46:48.868990Z"
    }
   },
   "outputs": [
    {
     "data": {
      "text/plain": [
       "array([[1.0001    , 0.5       , 0.33333333, 0.25      ],\n",
       "       [0.5       , 0.33343333, 0.25      , 0.2       ],\n",
       "       [0.33333333, 0.25      , 0.2001    , 0.16666667],\n",
       "       [0.25      , 0.2       , 0.16666667, 0.14295714]])"
      ]
     },
     "execution_count": 10,
     "metadata": {},
     "output_type": "execute_result"
    }
   ],
   "source": [
    "# A데이터 오차반영\n",
    "A_new = A + 0.0001 * np.eye(4)\n",
    "A_new"
   ]
  },
  {
   "cell_type": "code",
   "execution_count": 11,
   "id": "b5f2188f",
   "metadata": {
    "ExecuteTime": {
     "end_time": "2022-07-08T02:46:48.897609Z",
     "start_time": "2022-07-08T02:46:48.883243Z"
    }
   },
   "outputs": [
    {
     "data": {
      "text/plain": [
       "array([ -0.58897672,  21.1225671 , -85.75912499,  78.45650825])"
      ]
     },
     "execution_count": 11,
     "metadata": {},
     "output_type": "execute_result"
    }
   ],
   "source": [
    "# Ax=b에서 x를 추정\n",
    "np.linalg.solve(A_new, b)"
   ]
  },
  {
   "cell_type": "code",
   "execution_count": 12,
   "id": "4d00a3e0",
   "metadata": {
    "ExecuteTime": {
     "end_time": "2022-07-08T02:46:48.912704Z",
     "start_time": "2022-07-08T02:46:48.898700Z"
    }
   },
   "outputs": [
    {
     "data": {
      "text/plain": [
       "15513.738738929103"
      ]
     },
     "execution_count": 12,
     "metadata": {},
     "output_type": "execute_result"
    }
   ],
   "source": [
    "# 조건수 확인\n",
    "np.linalg.cond(A)"
   ]
  },
  {
   "cell_type": "markdown",
   "id": "c617ff4f",
   "metadata": {},
   "source": [
    "* Ax=b에서 A행렬의 조건수가 크면 A행렬에 조금의 오차만 생겨도 x의 값이 크게 변한다.\n",
    "* 행렬의 조건수를 낮추는게 중요하다 \n",
    "    * 조건수가 크다 : 오차에 민감하다\n",
    "    * 조건수가 작다 : 오차에 강건하다"
   ]
  },
  {
   "cell_type": "markdown",
   "id": "5fc533bd",
   "metadata": {},
   "source": [
    "- **조건수 감소 방법(분석 결과 안정성 확보 방법):** \n",
    "    > **1) 변수들의 단위차이로 숫자의 스케일들이 크게 다른 경우, 스케일링(Scaling)으로 해결 가능**  \n",
    "    > **2) 독립변수들 간에 상관관계가 높은 \"다중공선성\" 존재할 경우,  \n",
    "    Variance Inflation Factor(VIF)나 Principal Component Analysis(PCA)를 통한 변수선별로 해결 가능**  \n",
    "    > **3) 독립변수들 간 의존성이 높은 변수들에 패널티를 부여하는 정규화(Resularization)로 해결 가능**  "
   ]
  },
  {
   "cell_type": "code",
   "execution_count": null,
   "id": "77c50527",
   "metadata": {},
   "outputs": [],
   "source": []
  },
  {
   "cell_type": "code",
   "execution_count": null,
   "id": "43bb502c",
   "metadata": {},
   "outputs": [],
   "source": []
  }
 ],
 "metadata": {
  "kernelspec": {
   "display_name": "Python 3 (ipykernel)",
   "language": "python",
   "name": "python3"
  },
  "language_info": {
   "codemirror_mode": {
    "name": "ipython",
    "version": 3
   },
   "file_extension": ".py",
   "mimetype": "text/x-python",
   "name": "python",
   "nbconvert_exporter": "python",
   "pygments_lexer": "ipython3",
   "version": "3.9.7"
  },
  "toc": {
   "base_numbering": 1,
   "nav_menu": {},
   "number_sections": true,
   "sideBar": true,
   "skip_h1_title": false,
   "title_cell": "Table of Contents",
   "title_sidebar": "Contents",
   "toc_cell": false,
   "toc_position": {},
   "toc_section_display": true,
   "toc_window_display": false
  },
  "varInspector": {
   "cols": {
    "lenName": 16,
    "lenType": 16,
    "lenVar": 40
   },
   "kernels_config": {
    "python": {
     "delete_cmd_postfix": "",
     "delete_cmd_prefix": "del ",
     "library": "var_list.py",
     "varRefreshCmd": "print(var_dic_list())"
    },
    "r": {
     "delete_cmd_postfix": ") ",
     "delete_cmd_prefix": "rm(",
     "library": "var_list.r",
     "varRefreshCmd": "cat(var_dic_list()) "
    }
   },
   "types_to_exclude": [
    "module",
    "function",
    "builtin_function_or_method",
    "instance",
    "_Feature"
   ],
   "window_display": false
  }
 },
 "nbformat": 4,
 "nbformat_minor": 5
}
